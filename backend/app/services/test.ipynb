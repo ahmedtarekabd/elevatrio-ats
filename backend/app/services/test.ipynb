{
 "cells": [
  {
   "cell_type": "code",
   "execution_count": 1,
   "metadata": {},
   "outputs": [
    {
     "name": "stdout",
     "output_type": "stream",
     "text": [
      "E:\\Me\\Career\\Interns\\Midar\\ATS\\backend\n"
     ]
    },
    {
     "name": "stderr",
     "output_type": "stream",
     "text": [
      "e:\\Me\\Career\\Interns\\Midar\\ATS\\backend\\venv\\lib\\site-packages\\sentence_transformers\\cross_encoder\\CrossEncoder.py:13: TqdmWarning: IProgress not found. Please update jupyter and ipywidgets. See https://ipywidgets.readthedocs.io/en/stable/user_install.html\n",
      "  from tqdm.autonotebook import tqdm, trange\n"
     ]
    }
   ],
   "source": [
    "import sys\n",
    "from pathlib import Path\n",
    "\n",
    "# Add the root directory of your project to the Python path\n",
    "root_dir = Path().resolve().parent.parent\n",
    "sys.path.append(str(root_dir))\n",
    "print(root_dir)\n",
    "\n",
    "\n",
    "from sentence_transformers import SentenceTransformer\n",
    "from sklearn.metrics.pairwise import cosine_similarity\n",
    "from sklearn.feature_extraction.text import TfidfVectorizer\n",
    "import numpy as np\n",
    "\n",
    "from app.services.parse_resume import extract_text_from_pdf, extract_text_from_docx, clean_text\n",
    "from pathlib import Path\n",
    "import warnings\n",
    "warnings.filterwarnings(\"ignore\")\n"
   ]
  },
  {
   "cell_type": "code",
   "execution_count": 2,
   "metadata": {},
   "outputs": [],
   "source": [
    "job_description = \"\"\"\n",
    "    Software Engineer Job Description\n",
    "    Summary:\n",
    "    We're seeking an experienced Software Engineer to join our growing team. As a Software Engineer, you may be responsible for designing, developing and maintaining software applications that meet the requirements of our customers. The ideal candidate possesses knowledge of various programming languages and is able to work both independently and collaboratively on project goals.\n",
    "\n",
    "    Software Engineer Roles and Responsibilities:\n",
    "    Develops information systems by designing, developing, and installing software solutions.\n",
    "    Determines operational feasibility by evaluating analysis, problem definition, requirements, solution development, and proposed solutions.\n",
    "    Develops software solutions by studying information needs, conferring with users, and studying systems flow, data usage, and work processes.\n",
    "    Investigates problem areas.\n",
    "    Follows the software development lifecycle.\n",
    "    Documents and demonstrates solutions by developing documentation, flowcharts, layouts, diagrams, charts, code comments and clear code.\n",
    "    Prepares and installs solutions by determining and designing system specifications, standards, and programming.\n",
    "    Improves operations by conducting systems analysis and recommending changes in policies and procedures.\n",
    "    Obtains and licenses software by obtaining required information from vendors, recommending purchases, and testing and approving products.\n",
    "    Protects operations by keeping information confidential.\n",
    "    Provides information by collecting, analyzing, and summarizing development and service issues.\n",
    "    Accomplishes engineering and organization mission by completing related results as needed.\n",
    "    work collaboratively with cross-functional teams to design, develop and implement software solutions that address business requirements\n",
    "    create clean code using various programming languages and frameworks with well-documented documentation for efficiency and clarity\n",
    "    debug and troubleshoot software issues to guarantee the smooth running of applications\n",
    "    write automated tests to ensure high quality and maintainability of code\n",
    "    participate in code reviews to provide feedback for improvement\n",
    "    stay updated on emerging technologies and best practices in software development\n",
    "    \n",
    "    Requirements:\n",
    "    bachelor's degree in computer science or a related field\n",
    "    strong programming skills in one or more programming languages such as Python, C++, etc.\n",
    "    experience with software development methodologies such as Agile or Waterfall\n",
    "    knowledge of software design patterns and principles of software engineering\n",
    "    familiarity with database management systems\n",
    "    experience with version control systems such as Git\n",
    "    excellent problem-solving and analytical skills\n",
    "    strong communication and collaboration skills\n",
    "    The model shown is for illustration purposes only, and may require additional formatting to meet accepted standards.\n",
    "\n",
    "    Software Engineer Qualifications and Skills:\n",
    "    Analyzing information\n",
    "    General programming skills\n",
    "    Software design\n",
    "    Software debugging\n",
    "    Software documentation\n",
    "    Software testing\n",
    "    Problem solving\n",
    "    Teamwork\n",
    "    Software development fundamentals\n",
    "    Software development process\n",
    "    Software requirements\n",
    "    Education, Experience, and Licensing Requirements:\n",
    "\n",
    "    Bachelor's and/or master's degree in computer science, computer engineering, or related technical discipline\n",
    "    5+ years of professional software development experience\n",
    "    Proficiency in Java or C++, and object-oriented design skills\n",
    "    Application architecture and design patterns\n",
    "    Experience serving as technical lead throughout the full software development lifecycle, from conception, architecture definition, detailed design, scoping, planning, implementation, testing to documentation, delivery and maintenance is preferred\n",
    "    Knowledge of professional software engineering and best practices for the full software development life cycle, including coding standards, code reviews, source control management, build processes, testing, and operations\n",
    "    Experience in development of distributed/scalable systems and high-volume transaction applications\n",
    "    You've got a candidate's interest. Now how do you get their application? Include a compelling call to action right here that encourages job hunters to apply and tells them how.\n",
    "\"\"\"\n",
    "parsed_resume = [\n",
    "    \"Ahmed Tarek AbdelAal Sayed \\nComputer Engineering student at Cairo University \",\n",
    "    \"OBJECTIVES \\nMotivated and detail -oriented Computer Enginee r student having solid foundations \\nin programming with hands -on experience . \\nSeeking a Web Development position where I can leverage my technical skills, and \\ncontribute to innovative projects. \\n I work collaboratively with cross-functional teams and create clean code using various programming languages and frameworks\",\n",
    "    \"EDUCATION \\nBachelor of Communications and Computer Engineering expected 2025. \\nCairo University, Faculty of Engineering, Giza, Egypt \\nMajor: Computer Engineering \\nCumulative GPA: 3.37/4.0 \",\n",
    "    \"INTERNSHIPS \\nEMAAR Internship  July 2023 -- August 2023 \\n Salesforce developer: SF ecosystem. Visualforce, LWCs. \\n Data Analytics  Power BI: Data Gathering, Shaping & Modeling Data, Create \\nDashboards \\nArab Organization for Industrialization Training , Electronics departments. \",\n",
    "    \"COURSES \\nCS50: Introduction to computer science, Harvard University, online. \\n C, Python, SQLite3, HTML, CSS, JS \\nEmbedded Systems Course , AMIT Institute . \\n ARM controllers: ATMEGA 32 \\n Drivers Interfacing \\n Serial Communications protocols such as UART, and I2C. \\nMachine Learning from Deep -learning , Coursera. \\n Supervised vs Unsupervised Machine Learning. \\n Regression: Linear Regression, single and multivariable targets. \\n Classification: Logistic regression \",\n",
    "    \"PROJECTS \\n CoEdit , 2024 Visit Site ! \\n Real -time text editor using React.js & Spring Boot (Java) using Pseudo OT . \\n Tools: Visual Studio Code, React, Tailwind CSS with , Shadcn -ui, MongoDB , \\nSockjs , deployed using Vercel (FE) and Render (BE) \\n Redditech , 2024 GitHub Repo \\n Reddit Clone using MERN Stack \\n My role: Frontend \\n Main feed , Posts, Search , JWT Authentication (FE side) \\n Mock Backend using Express.js. \\n Tools: Visual Studio Code, React, Tailwind, Axios, React Query \\nEgyptCheer VIP Football Match Seat Reservation , 2024 Visit Site ! \\n A website application for VIPs to book seats for matches online . \\n Tools: Visual Studio Code , Next.js, React, Tailwind with DaisyUI plugin, \\nMongoDB, Mongoose , deployed using Vercel \\nGym management system using C# and SQL, 2023 GitHub Repo \\n A desktop application for Gym managers/owners and receptionists. Helps \\nkeep track of members' subscriptions . \\n Tools: Visual Studio, Microsoft SQL DBMS \\nChess Game using Assembly, 2023 GitHub Repo \\n 8086 processor multiplayer chess game written in assembly language. \\n Tools: Visual Studio Code, DOSBox, TASM Debugger \\nShipping company simulator using C++, 2022 GitHub Repo \\n A console application that simulates how different types of Trucks can ship \\ndifferent types of Cargos. The simulation displays each truck whether it is \\nshipping or in maintenance each hour. Email ahmedtarekabd2002@gmail.com \\nGitHub github.com/ahmedtarekabd \\nLinkedIn linkedin.com/in/ahmedtarekabd/ \\nMobile +20 1202708815 \\nLocation Mohandessin, Giza, Egypt \",\n",
    "    \"SKILLS \\nProgramming Languages \\nC/C++ C# \\nPython Java \\nHTML , CSS JS/TS \\nNode.js Ruby \\nPHP MATLAB \\nFrameworks \\n UI \\no Shadcn -UI, Tailwind CSS \\n Frontend \\no React.js \\n Backend \\no Nodejs, Django , Spring Boot , \\nLaravel \\n Databases \\no MySQL, MongoDB \\n Full stack \\no Next.js \\nEngineering concepts \\n Data Structure & Algorithms \\n Logic Design \\n Modular Programming \\n Embedded Systems \\n Fundamentals of Electronics \\n Version Control (Git & GitHub ) \",\n",
    "    \"INTERESTS & ACTIVITIES \\nRowing \\n 1st in the Egyptian Cup 2020 twice, \\nAlamein Championship 2020 \\n 2nd in the Egyptian Cup 2019 \\n 3rd in the Egyptian Cup 2019, 2020, \\nRepublic Championship 2019, 2020 \\ntwice \\nLebaladna \\n Preparing meals during Ramadan. \\nCycling \",\n",
    "    \"SIDE PROJECTS \\n Tomaanina Website Visit Site! \\no Get Random Ayah \\no Get Random Zikr (or on -demand) \\no Sebha \",\n",
    "    \"OTHER PROJECTS \\nSnake & Ladders game with \\nMonopoly -like rules, 2021 GitHub Repo \\n A console game that uses \\nCMUgraphicsLib Library to open a \\ngraphical screen to display the \\ngame , using Visual Studio . \"\n",
    "]\n",
    "\n",
    "relative_path = root_dir / \"app/testing/\"\n",
    "resume_file_pdf = relative_path / 'Ahmed Tarek Resume.pdf'\n",
    "resume_file_docx = relative_path / 'Bold attorney resume.docx'\n",
    "parsed_resume = extract_text_from_pdf(resume_file_pdf)\n",
    "# parsed_resume = extract_text_from_docx(resume_file_docx)\n",
    "\n",
    "# resumes = [clean_text(' '.join(parsed_resume).replace('\\n', ' '))]\n",
    "resumes = [clean_text(parsed_resume.replace('\\n', ' '))]\n",
    "sentences = [job_description] + resumes"
   ]
  },
  {
   "cell_type": "markdown",
   "metadata": {},
   "source": [
    "### Sentence Embedding"
   ]
  },
  {
   "cell_type": "code",
   "execution_count": 5,
   "metadata": {},
   "outputs": [
    {
     "name": "stdout",
     "output_type": "stream",
     "text": [
      "2 (768,) [[-0.8650913  -0.18891604  1.024718   ... -0.9733707  -1.3991535\n",
      "   0.34877735]\n",
      " [-0.71060103 -0.0115189   1.0139425  ... -0.74145186 -1.1362334\n",
      "   0.00210535]]\n"
     ]
    },
    {
     "data": {
      "text/plain": [
       "array([[0.7342617]], dtype=float32)"
      ]
     },
     "execution_count": 5,
     "metadata": {},
     "output_type": "execute_result"
    }
   ],
   "source": [
    "job_description = \"Expertise in AI and data science methods.\"\n",
    "parsed_resume = \"Proficient in machine learning techniques.\"\n",
    "resumes = [parsed_resume]\n",
    "sentences = [job_description] + resumes\n",
    "\n",
    "# Initializing the Sentence Transformer model using BERT with mean-tokens pooling\n",
    "model = SentenceTransformer('bert-base-nli-mean-tokens') # A BERT model fine-tuned for sentence embeddings\n",
    "\n",
    "# Encoding the sentences to obtain their embeddings\n",
    "sentence_embeddings = model.encode(sentences, output_value='sentence_embedding')\n",
    "print(len(sentence_embeddings), sentence_embeddings[0].shape, sentence_embeddings)\n",
    "\n",
    "# Calculating the cosine similarity between the first sentence embedding and the rest of the embeddings\n",
    "# The result will be a list of similarity scores between the first sentence and each of the other sentences\n",
    "similarity_scores = cosine_similarity([sentence_embeddings[0]], sentence_embeddings[1:])\n",
    "similarity_scores"
   ]
  },
  {
   "cell_type": "markdown",
   "metadata": {},
   "source": [
    "### Token Embedding"
   ]
  },
  {
   "cell_type": "code",
   "execution_count": null,
   "metadata": {},
   "outputs": [],
   "source": [
    "# Initializing the Sentence Transformer model using BERT with mean-tokens pooling\n",
    "model = SentenceTransformer('bert-base-nli-mean-tokens') # A BERT model fine-tuned for sentence embeddings\n",
    "\n",
    "# Encoding the sentences to obtain their embeddings\n",
    "token_embeddings = model.encode(sentences, output_value='token_embeddings')\n",
    "print(len(token_embeddings), token_embeddings[0].shape, token_embeddings)\n",
    "\n",
    "# Calculating the cosine similarity between the first sentence embedding and the rest of the embeddings\n",
    "# The result will be a list of similarity scores between the first sentence and each of the other sentences\n",
    "similarity_scores = cosine_similarity([token_embeddings[0]], token_embeddings[1:])\n",
    "similarity_scores"
   ]
  },
  {
   "cell_type": "markdown",
   "metadata": {},
   "source": [
    "## TD-IDF"
   ]
  },
  {
   "cell_type": "code",
   "execution_count": null,
   "metadata": {},
   "outputs": [],
   "source": []
  }
 ],
 "metadata": {
  "kernelspec": {
   "display_name": "venv",
   "language": "python",
   "name": "python3"
  },
  "language_info": {
   "codemirror_mode": {
    "name": "ipython",
    "version": 3
   },
   "file_extension": ".py",
   "mimetype": "text/x-python",
   "name": "python",
   "nbconvert_exporter": "python",
   "pygments_lexer": "ipython3",
   "version": "3.10.6"
  }
 },
 "nbformat": 4,
 "nbformat_minor": 2
}
